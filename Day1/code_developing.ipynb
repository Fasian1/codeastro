{
 "cells": [
  {
   "cell_type": "markdown",
   "metadata": {},
   "source": [
    "# Software Development Environments"
   ]
  },
  {
   "cell_type": "markdown",
   "metadata": {},
   "source": [
    "## tl;dr\n",
    "\n",
    " * Integrated Development Environments (IDEs): we recommend you use one for software development ✔\n",
    " * Jupyter notebooks: great for tutorials and as a playground for getting familiar with code, but not great for software engineering 🚸\n",
    " * plain text editors: try to avoid, although sometimes you have to use one ⛔"
   ]
  },
  {
   "cell_type": "markdown",
   "metadata": {},
   "source": [
    "## Integrated Development Environments (IDEs)\n",
    "\n",
    " * All-in-one that comes with many features to help to code\n",
    " * We think it is worth the (small) effort to learn to use one\n",
    " * The two leading IDEs for Python are VS Code and PyCharm\n",
    " * We will be demoing useful features in VS Code throughout the week\n",
    " * Demo:\n",
    "    * VS Code workspace introduction\n",
    "    * Autocomplete\n",
    "    * Static error checking (linting)\n",
    "    * Git integration\n",
    "    * SSH integration"
   ]
  },
  {
   "cell_type": "markdown",
   "metadata": {},
   "source": [
    "## Jupyter Notebooks \n",
    "\n",
    " * Combination of code cells and Markdown text cells make it useful for writing tutorials\n",
    " * Running/rerunning one cell at a time allows you to play around with the code/understand how it works\n",
    " * Useful for plotting, solving a problem (think of it as a document)\n",
    " * Output depends on order cells are run/rerun -> not good for repeatability\n",
    " * Not designed for programming a software package"
   ]
  },
  {
   "cell_type": "markdown",
   "metadata": {},
   "source": [
    "## Plain text editors\n",
    "\n",
    "* The \"old-school\" editors (e.g., vim, emacs, nano, notepad++)\n",
    "* We generally recommend you avoid doing large amounts of programing in them as the code is prone to bugs\n",
    "* Sometimes inevitable in astronomy so it is good to learn a little bit of either vim or emacs\n",
    "* You can use VS Code over ssh, so you should not need to use these very often!"
   ]
  },
  {
   "cell_type": "markdown",
   "metadata": {},
   "source": [
    "# Object-Oriented and Functional Programming"
   ]
  },
  {
   "cell_type": "markdown",
   "metadata": {},
   "source": [
    "## tl;dr\n",
    "\n",
    " * Object-oriented programming relies on the state of variables to determine the output\n",
    "    * Good to keep track of something that is changing (e.g., the number of people in a Zoom meeting)\n",
    " * Functional programming relies solely on the inputs, which do not change, to determine the output\n",
    "    * Good for math equations (e.g., computing the inverse of a matrix)\n",
    " * Typically, you will want a mix of both programming paradigms"
   ]
  },
  {
   "cell_type": "markdown",
   "metadata": {},
   "source": [
    "## Object-Oriented Programming\n",
    " \n",
    "![](imgs/oo-meme.png)"
   ]
  },
  {
   "cell_type": "markdown",
   "metadata": {},
   "source": [
    "## Classes\n",
    "\n",
    " * Classes organize variables and functions into a single object\n",
    " * Objects can be used to track state - useful model for many things in the world\n",
    " * We recommend identifying entities that should become objects and program around this\n",
    "   * For example, list functions/functionality you want and see how they can be grouped together.\n",
    " * Refer to the diagnostic notebook for the basics on class and superclass syntax\n",
    "\n",
    "Some more subtle things to consider when using classes\n",
    "\n",
    "  * Creating an object can be slow. Too many object creations can slow down code\n",
    "  * Could be prone to bugs since function outputs depends on both inputs and the current state of the object"
   ]
  },
  {
   "cell_type": "markdown",
   "metadata": {},
   "source": [
    "## Object Oriented Programming\n",
    "    \n",
    " * Code structured around objects\n",
    " * Depends on changing/\"mutable\" state of the object (e.g., `self.height`, `self.velocity`, etc.)\n",
    " * Most things in the world change, so it makes sense to frame things in this way\n",
    " * Activity: finish the following free fall gravity simulator. Use your simulation to determine how long it takes for a particle to the ground from a height of 10 meters. We will poll everyone on what you get.\n",
    " * Bonus activity: In the future, we want particles that experience other forces and move in 3D. Write a `Particle` superclass that the `FreeFallParticle` is a subclass of. What fields go into the `Particle` class?\n"
   ]
  },
  {
   "cell_type": "code",
   "execution_count": 4,
   "metadata": {
    "tags": []
   },
   "outputs": [
    {
     "output_type": "stream",
     "name": "stdout",
     "text": "It took 1.40 s seconds for the particle to fall!\n"
    },
    {
     "output_type": "execute_result",
     "data": {
      "text/plain": "\"\\nAdd some code to advance the particle's height by one time step at a time. Use object oriented programming. \\nThen run this code and calculate how long it takes for the particle to fall down from a height of 10 meters.\\n\\nSome useful equations for how to calculate the particle's new state at the next time step.\\nPsuedo code below:\\nacceleration = g\\nnew_velocity = current_velocity + acceleration * dt\\nnew_height = current_height + new_velocity * dt\\n\""
     },
     "metadata": {},
     "execution_count": 4
    }
   ],
   "source": [
    "# Object-Oriented Programming\n",
    "import astropy.units as u\n",
    "\n",
    "class FreeFallParticle(object):\n",
    "    \"\"\"\n",
    "    Simulate a particle falling in due to Earth's gravity. Particle is stationary at first\n",
    "\n",
    "    Args:\n",
    "        height (float): a height in meters\n",
    "        dt (float): timestep of the simulation in seconds\n",
    "    \"\"\"\n",
    "    def __init__(self, height, dt=0.1):\n",
    "        self.height = height * u.m # current height\n",
    "        self.velocity = 0 * u.m/u.s # current velocity\n",
    "        self.time = 0 * u.s # time elapsed\n",
    "        self.dt = dt * u.s # timestep of the simulation\n",
    "        self.g = -9.8 * u.m/u.s**2 # gravitational acceleration (Don't change)\n",
    "\n",
    "    def advance_time(self):\n",
    "        self.velocity += self.g * self.dt\n",
    "        self.height += self.velocity * self.dt\n",
    "        self.time += self.dt\n",
    "    \n",
    "\n",
    "myParticle = FreeFallParticle(10)\n",
    "while myParticle.height > 0:\n",
    "    myParticle.advance_time()\n",
    "\n",
    "print('It took {:.2f} seconds for the particle to fall!'.format(myParticle.time))\n",
    "\n",
    "##### Activity ######\n",
    "\"\"\"\n",
    "Add some code to advance the particle's height by one time step at a time. Use object oriented programming. \n",
    "Then run this code and calculate how long it takes for the particle to fall down from a height of 10 meters.\n",
    "\n",
    "Some useful equations for how to calculate the particle's new state at the next time step.\n",
    "Psuedo code below:\n",
    "acceleration = g\n",
    "new_velocity = current_velocity + acceleration * dt\n",
    "new_height = current_height + new_velocity * dt\n",
    "\"\"\""
   ]
  },
  {
   "cell_type": "code",
   "execution_count": null,
   "metadata": {},
   "outputs": [],
   "source": [
    "# Bonus activity initialization structure:\n",
    "\n",
    "class Particle(object):\n",
    "    def __init__(\n",
    "        self, dt=0.1, pos=np.array([0, 0, 0]), vel=np.array([0, 0, 0]), acc=np.array([0, 0, 0])\n",
    "    ):\n",
    "        self.pos = pos * u.m\n",
    "        self.vel = vel * u.m / u.s\n",
    "        self.acc = acc * u.m / u.s**2\n",
    "        self.time = 0 * u.s # time elapsed\n",
    "        self.dt = dt * u.s # timestep of the simulation\n",
    "\n",
    "\n",
    "class FreeFallParticleV2(Particle):\n",
    "    def __init__(self, dt=0.1, height):\n",
    "        super().__init__(dt, pos=np.array([0, 0, height]), acc=np.array([0, 0, -9.8]))\n",
    "\n",
    "myParticle = FreeFallParticle(10)"
   ]
  },
  {
   "cell_type": "markdown",
   "metadata": {},
   "source": [
    "## Functional Programming\n",
    "\n",
    "![](imgs/fp-meme.png)"
   ]
  },
  {
   "cell_type": "markdown",
   "metadata": {},
   "source": [
    "## Functional Programming\n",
    "\n",
    " * Key paradigm: functions outputs depend solely on the inputs\n",
    "    * Easier to guarantee correctness\n",
    "    * More messy to track changing state of things\n",
    " * Functional programming != no objects. Objects however are static data structures.\n",
    "    * You need to create a new object if you want to change an object\n",
    " * Useful for math problems, physics equations, unit conversions\n",
    "    * `import astropy.units as u; u.m.to(u.nm)`"
   ]
  },
  {
   "cell_type": "code",
   "execution_count": 5,
   "metadata": {
    "tags": []
   },
   "outputs": [
    {
     "output_type": "stream",
     "name": "stdout",
     "text": "0.0 s 1.0 m\n0.1 s 0.902 m\n0.2 s 0.706 m\n0.30000000000000004 s 0.4119999999999999 m\n0.4 s 0.01999999999999985 m\n0.5 s -0.4700000000000002 m\nAre these the same? 0.902 m 0.902 m\n"
    }
   ],
   "source": [
    "# Functional Programming Example. \n",
    "\n",
    "class Particle(object):\n",
    "    \"\"\"\n",
    "    A particle with a given height and vertical instantaneous velocity\n",
    "\n",
    "    Args:\n",
    "        height (float): height of the object currently in meters\n",
    "        velocity (float): velocity of the object in meters. Default is 0 (at rest)\n",
    "    \"\"\"\n",
    "    def __init__(self, height, velocity=0):\n",
    "        self.height = height * u.m\n",
    "        self.velocity = velocity * u.m/u.s\n",
    "\n",
    "def freefall_timestep(thing, dt=0.1):\n",
    "    \"\"\"\n",
    "    Simulate free fall of the particle for a small time step\n",
    "\n",
    "    Args:\n",
    "        thing (Particle): the current position and velocity of the particle\n",
    "        dt (float): optional float that specifies the timestep in seconds\n",
    "\n",
    "    Returns:\n",
    "        new_thing (Particle): the updated position and velocity of the particle\n",
    "    \"\"\"\n",
    "    dt_units = dt * u.s\n",
    "    new_velocity = thing.velocity + -9.8 * u.m / u.s**2 * dt_units\n",
    "    new_height = thing.height + new_velocity * dt_units\n",
    "\n",
    "    new_thing = Particle(new_height.value, new_velocity.value)\n",
    "    return new_thing\n",
    "\n",
    "\n",
    "ball = Particle(1) # start a ball at 1 m\n",
    "ball_states = [ball]\n",
    "print(0 * u.s, ball.height)\n",
    "dt = 0.1\n",
    "time = 0\n",
    "\n",
    "for i in range(5):\n",
    "    new_ball = freefall_timestep(ball_states[-1], dt)\n",
    "    ball_states = ball_states + [new_ball,]\n",
    "    time += dt\n",
    "    print(time * u.s, new_ball.height)\n",
    "\n",
    "\n",
    "# Running the function with the same inputs will return the same result\n",
    "# This generally would not happen with object oriented programming\n",
    "# When is this good or bad?\n",
    "output_ball_1 = freefall_timestep(ball, dt)\n",
    "output_ball_2 = freefall_timestep(ball, dt)\n",
    "print(\"Are these the same?\", output_ball_1.height, output_ball_2.height)\n",
    "\n"
   ]
  },
  {
   "cell_type": "markdown",
   "metadata": {},
   "source": [
    "## Object Oriented vs Functional Programming\n",
    "\n",
    " * Object oriented programming is good when things change (e.g., the position of a planet, the current image being analyzed)\n",
    " * Functional programming is good to deterministic things (e.g., math equations, making sure you do not accidentally apply the same function twice)\n",
    " * Most packages use both"
   ]
  },
  {
   "cell_type": "markdown",
   "metadata": {},
   "source": [
    "## Bonus Activity\n",
    "\n",
    "Implement the function to get all of the previous heights and their corresponding times the free falling object was at. For example, if the object was at `height = 1` at `time = 0`, `height = 0.902` at `t = 0.1`, and `height = 0.706` at `t = 0.2`, the function should return `[1, 0.902, 0.706]` for the heights and `[0, 0.1, 0.2]` for the corresponding times. Choose to implement it either in the object oriented or functional framework we provided. If you have time, try the other one too! \n"
   ]
  },
  {
   "cell_type": "code",
   "execution_count": 18,
   "metadata": {
    "tags": []
   },
   "outputs": [
    {
     "output_type": "stream",
     "name": "stdout",
     "text": "Times [s] (OOP): [0.0, 0.1, 0.2, 0.30000000000000004, 0.4]\nHeights [m] (OOP): [1.0, 0.902, 0.706, 0.4119999999999999, 0.01999999999999985]\n\nTimes [s] (functional): [0, 0.1, 0.2, 0.30000000000000004, 0.4]\nHeights [m] (functional): [1.0, 0.902, 0.706, 0.4119999999999999, 0.01999999999999985]\n\n"
    }
   ],
   "source": [
    "# OOP method:\n",
    "\n",
    "def falling_history_oop(initial_height, dt=0.1):\n",
    "    \"\"\"\n",
    "    Return the heights and times an object falls through over the simulation. Uses OOP.\n",
    "\n",
    "    Args: \n",
    "        initial_height (float): height [m] at time = 0\n",
    "        dt (float): timestep [s]\n",
    "    \n",
    "    Returns:\n",
    "        tuple of \n",
    "            list of float: times [s]\n",
    "            list of float: heights [m]\n",
    "    \"\"\"\n",
    "    myParticle = FreeFallParticle(initial_height, dt=dt)\n",
    "    times = []\n",
    "    heights = []\n",
    "\n",
    "    while myParticle.height > 0:\n",
    "        times.append(myParticle.time.cgs.value)\n",
    "        heights.append(myParticle.height.to(u.m).value)\n",
    "        myParticle.advance_time()\n",
    "\n",
    "    return times, heights\n",
    "\n",
    "my_times, my_heights = falling_history_oop(1)\n",
    "print('Times [s] (OOP): {}'.format(my_times))\n",
    "print('Heights [m] (OOP): {}\\n'.format(my_heights))\n",
    "\n",
    "\n",
    "# functional method:\n",
    "\n",
    "def falling_history_func(initial_height, dt=0.1):\n",
    "    \"\"\"\n",
    "    Return the heights and times an object falls through over the simulation. Uses \n",
    "    functional approach.\n",
    "\n",
    "    Args: \n",
    "        initial_height (float): height [m] at time = 0\n",
    "        dt (float): timestep [s]\n",
    "    \n",
    "    Returns:\n",
    "        tuple of \n",
    "            list of float: times [s]\n",
    "            list of float: heights [m]\n",
    "    \"\"\"\n",
    "\n",
    "    myParticle = Particle(initial_height)\n",
    "    particle_list = [myParticle]\n",
    "    time = 0\n",
    "    times = []\n",
    "    heights = []\n",
    "\n",
    "    while particle_list[-1].height > 0:\n",
    "\n",
    "        times.append(time)\n",
    "        heights.append(particle_list[-1].height.to(u.m).value)\n",
    "\n",
    "        newParticle = freefall_timestep(particle_list[-1], dt)\n",
    "        particle_list.append(newParticle)\n",
    "\n",
    "        time += dt\n",
    "\n",
    "    return times, heights\n",
    "\n",
    "\n",
    "my_times, my_heights = falling_history_func(1)\n",
    "print('Times [s] (functional): {}'.format(my_times))\n",
    "print('Heights [m] (functional): {}\\n'.format(my_heights))"
   ]
  },
  {
   "cell_type": "code",
   "execution_count": null,
   "metadata": {},
   "outputs": [],
   "source": []
  }
 ],
 "metadata": {
  "language_info": {
   "name": "python",
   "codemirror_mode": {
    "name": "ipython",
    "version": 3
   },
   "version": "3.7.6-final"
  },
  "orig_nbformat": 2,
  "file_extension": ".py",
  "mimetype": "text/x-python",
  "name": "python",
  "npconvert_exporter": "python",
  "pygments_lexer": "ipython3",
  "version": 3,
  "kernelspec": {
   "name": "python3",
   "display_name": "Python 3"
  }
 },
 "nbformat": 4,
 "nbformat_minor": 2
}